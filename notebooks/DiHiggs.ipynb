{
 "cells": [
  {
   "cell_type": "markdown",
   "metadata": {},
   "source": [
    "Log in to the server using SSH:\n",
    "```bash\n",
    "ssh -i /path/to/id_rsa imperium-skel-sm.hep.caltech.edu`.\n",
    "```\n",
    "\n",
    "First time only, create a software sandbox:\n",
    "\n",
    "```bash\n",
    "sudo singularity build --sandbox ~/my-sandbox /bigdata/shared/Software/singularity/ibanks/edge.simg\n",
    "```\n",
    "\n",
    "Run a jupyter notebook:\n",
    "```bash\n",
    "/bigdata/shared/Software/jupyter/start_S.sh ~/my-sandbox\n",
    "```\n",
    "On your computer, open a browser at the given URL and go to your home directory. Create a new notebook with `New->Python3`.\n",
    "\n",
    "Run a shell in the sandbox:\n",
    "```bash\n",
    "/bigdata/shared/Software/jupyter/start.sh ~/my-sandbox\n",
    "```\n",
    "\n",
    "In case you need to install any packages in the sandbox:\n",
    "```bash\n",
    "sudo singularity shell --writable ~/my-sandbox\n",
    "> pip3 install package\n",
    "> yum install library\n",
    "```"
   ]
  },
  {
   "cell_type": "code",
   "execution_count": 1,
   "metadata": {},
   "outputs": [],
   "source": [
    "import uproot"
   ]
  },
  {
   "cell_type": "code",
   "execution_count": 9,
   "metadata": {},
   "outputs": [],
   "source": [
    "fi = uproot.open(\"/mnt/hadoop/store/mc/RunIIAutumn18NanoAODv5/GluGluToHHTo2B2G_node_SM_TuneCP5_PSWeights_13TeV-madgraph-pythia8/NANOAODSIM/Nano1June2019_102X_upgrade2018_realistic_v19-v1/100000/0AE1DF70-D618-164A-BE18-36C083A75CE4.root\")"
   ]
  },
  {
   "cell_type": "code",
   "execution_count": 11,
   "metadata": {},
   "outputs": [],
   "source": [
    "events = fi.get(\"Events\")"
   ]
  },
  {
   "cell_type": "code",
   "execution_count": 39,
   "metadata": {},
   "outputs": [
    {
     "name": "stdout",
     "output_type": "stream",
     "text": [
      "GenPart_eta\n",
      "GenPart_mass\n",
      "GenPart_phi\n",
      "GenPart_pt\n",
      "GenPart_genPartIdxMother\n",
      "GenPart_pdgId\n",
      "GenPart_status\n",
      "GenPart_statusFlags\n"
     ]
    }
   ],
   "source": [
    "for k in events.keys():\n",
    "    k  = str(k, \"ascii\")\n",
    "    if k.startswith(\"GenPart_\"):\n",
    "        print(k)"
   ]
  },
  {
   "cell_type": "markdown",
   "metadata": {},
   "source": [
    "Load the data to memory."
   ]
  },
  {
   "cell_type": "code",
   "execution_count": 42,
   "metadata": {},
   "outputs": [],
   "source": [
    "data = events.arrays([b\"GenPart_pt\", b\"GenPart_eta\", b\"GenPart_pdgId\", b\"GenPart_status\", b\"GenPart_genPartIdxMother\"])\n",
    "data = {str(k, 'ascii'): v for k, v in data.items()}"
   ]
  },
  {
   "cell_type": "code",
   "execution_count": 43,
   "metadata": {},
   "outputs": [
    {
     "data": {
      "text/plain": [
       "<JaggedArray [[0.0 0.0 105.0 ... 10.625 18.0 10.40625] [0.0 0.0 241.5 ... 15.4375 97.75 84.0] [0.0 0.0 153.5 ... 0.2109375 0.09887695 31.1875] ... [0.0 0.0 249.0 ... 2.484375 11.59375 63.5] [0.0 0.0 184.0 ... 0.103271484 8.875 46.25] [0.0 0.0 19.0625 ... 2.125 1.2890625 13.34375]] at 0x7f28b48a5748>"
      ]
     },
     "execution_count": 43,
     "metadata": {},
     "output_type": "execute_result"
    }
   ],
   "source": [
    "data[\"GenPart_pt\"]"
   ]
  },
  {
   "cell_type": "markdown",
   "metadata": {},
   "source": [
    "We have 400k events."
   ]
  },
  {
   "cell_type": "code",
   "execution_count": 44,
   "metadata": {},
   "outputs": [
    {
     "data": {
      "text/plain": [
       "400000"
      ]
     },
     "execution_count": 44,
     "metadata": {},
     "output_type": "execute_result"
    }
   ],
   "source": [
    "len(data[\"GenPart_pt\"])"
   ]
  },
  {
   "cell_type": "markdown",
   "metadata": {},
   "source": [
    "Each event has multiple particles, in total we have close to 20M particles."
   ]
  },
  {
   "cell_type": "code",
   "execution_count": 45,
   "metadata": {},
   "outputs": [
    {
     "data": {
      "text/plain": [
       "18757597"
      ]
     },
     "execution_count": 45,
     "metadata": {},
     "output_type": "execute_result"
    }
   ],
   "source": [
    "len(data[\"GenPart_pt\"].content)"
   ]
  },
  {
   "cell_type": "markdown",
   "metadata": {},
   "source": [
    "Let's print out a few events and the particle content in the events."
   ]
  },
  {
   "cell_type": "code",
   "execution_count": 48,
   "metadata": {
    "scrolled": false
   },
   "outputs": [
    {
     "name": "stdout",
     "output_type": "stream",
     "text": [
      "Event iev=0 has 41 generated particles\n",
      "  igp=0 pt=0.0 pdgId=21 status=21 idxmother=-1\n",
      "  igp=1 pt=0.0 pdgId=21 status=21 idxmother=-1\n",
      "  igp=2 pt=105.0 pdgId=25 status=22 idxmother=0\n",
      "  igp=3 pt=105.0 pdgId=25 status=22 idxmother=0\n",
      "  igp=4 pt=134.5 pdgId=25 status=44 idxmother=2\n",
      "  igp=5 pt=104.5 pdgId=25 status=44 idxmother=3\n",
      "  igp=6 pt=135.0 pdgId=25 status=44 idxmother=4\n",
      "  igp=7 pt=105.0 pdgId=25 status=44 idxmother=5\n",
      "  igp=8 pt=135.0 pdgId=25 status=44 idxmother=6\n",
      "  igp=9 pt=106.0 pdgId=25 status=44 idxmother=7\n",
      "  igp=10 pt=135.5 pdgId=25 status=44 idxmother=8\n",
      "  igp=11 pt=101.25 pdgId=25 status=44 idxmother=9\n",
      "  igp=12 pt=137.5 pdgId=25 status=44 idxmother=10\n",
      "  igp=13 pt=101.25 pdgId=25 status=44 idxmother=11\n",
      "  igp=14 pt=137.0 pdgId=25 status=44 idxmother=12\n",
      "  igp=15 pt=100.75 pdgId=25 status=44 idxmother=13\n",
      "  igp=16 pt=137.0 pdgId=25 status=44 idxmother=14\n",
      "  igp=17 pt=101.25 pdgId=25 status=44 idxmother=15\n",
      "  igp=18 pt=137.5 pdgId=25 status=62 idxmother=16\n",
      "  igp=19 pt=101.25 pdgId=25 status=62 idxmother=17\n",
      "  igp=20 pt=77.5 pdgId=5 status=23 idxmother=18\n",
      "  igp=21 pt=62.0 pdgId=-5 status=23 idxmother=18\n",
      "  igp=22 pt=125.25 pdgId=22 status=1 idxmother=19\n",
      "  igp=23 pt=34.75 pdgId=22 status=1 idxmother=19\n",
      "  igp=24 pt=70.0 pdgId=1 status=71 idxmother=-1\n",
      "  igp=25 pt=21.5 pdgId=111 status=2 idxmother=24\n",
      "  igp=26 pt=46.0 pdgId=5 status=71 idxmother=20\n",
      "  igp=27 pt=22.125 pdgId=21 status=71 idxmother=20\n",
      "  igp=28 pt=49.75 pdgId=-5 status=71 idxmother=21\n",
      "  igp=29 pt=42.625 pdgId=-513 status=2 idxmother=20\n",
      "  igp=30 pt=40.125 pdgId=523 status=2 idxmother=20\n",
      "  igp=31 pt=12.875 pdgId=22 status=1 idxmother=25\n",
      "  igp=32 pt=42.375 pdgId=-511 status=2 idxmother=29\n",
      "  igp=33 pt=39.625 pdgId=521 status=2 idxmother=30\n",
      "  igp=34 pt=11.625 pdgId=111 status=2 idxmother=24\n",
      "  igp=35 pt=17.375 pdgId=411 status=2 idxmother=32\n",
      "  igp=36 pt=19.375 pdgId=423 status=2 idxmother=33\n",
      "  igp=37 pt=11.34375 pdgId=-423 status=2 idxmother=33\n",
      "  igp=38 pt=10.625 pdgId=22 status=1 idxmother=34\n",
      "  igp=39 pt=18.0 pdgId=421 status=2 idxmother=36\n",
      "  igp=40 pt=10.40625 pdgId=-421 status=2 idxmother=37\n",
      "Event iev=1 has 29 generated particles\n",
      "  igp=0 pt=0.0 pdgId=21 status=21 idxmother=-1\n",
      "  igp=1 pt=0.0 pdgId=21 status=21 idxmother=-1\n",
      "  igp=2 pt=241.5 pdgId=25 status=22 idxmother=0\n",
      "  igp=3 pt=241.5 pdgId=25 status=22 idxmother=0\n",
      "  igp=4 pt=244.5 pdgId=25 status=44 idxmother=2\n",
      "  igp=5 pt=239.5 pdgId=25 status=44 idxmother=3\n",
      "  igp=6 pt=247.5 pdgId=25 status=44 idxmother=4\n",
      "  igp=7 pt=237.0 pdgId=25 status=44 idxmother=5\n",
      "  igp=8 pt=242.0 pdgId=25 status=44 idxmother=6\n",
      "  igp=9 pt=241.5 pdgId=25 status=44 idxmother=7\n",
      "  igp=10 pt=242.5 pdgId=25 status=44 idxmother=8\n",
      "  igp=11 pt=241.0 pdgId=25 status=44 idxmother=9\n",
      "  igp=12 pt=243.0 pdgId=25 status=62 idxmother=10\n",
      "  igp=13 pt=241.0 pdgId=25 status=62 idxmother=11\n",
      "  igp=14 pt=194.5 pdgId=22 status=1 idxmother=12\n",
      "  igp=15 pt=63.125 pdgId=22 status=1 idxmother=12\n",
      "  igp=16 pt=25.6875 pdgId=5 status=23 idxmother=13\n",
      "  igp=17 pt=241.5 pdgId=-5 status=23 idxmother=13\n",
      "  igp=18 pt=195.5 pdgId=-5 status=73 idxmother=16\n",
      "  igp=19 pt=24.9375 pdgId=5 status=71 idxmother=16\n",
      "  igp=20 pt=36.5 pdgId=21 status=71 idxmother=16\n",
      "  igp=21 pt=195.5 pdgId=-5 status=71 idxmother=18\n",
      "  igp=22 pt=25.125 pdgId=-523 status=2 idxmother=16\n",
      "  igp=23 pt=168.5 pdgId=513 status=2 idxmother=16\n",
      "  igp=24 pt=24.8125 pdgId=-521 status=2 idxmother=22\n",
      "  igp=25 pt=167.5 pdgId=511 status=2 idxmother=23\n",
      "  igp=26 pt=15.4375 pdgId=421 status=2 idxmother=24\n",
      "  igp=27 pt=97.75 pdgId=-4114 status=2 idxmother=25\n",
      "  igp=28 pt=84.0 pdgId=-4122 status=2 idxmother=27\n"
     ]
    }
   ],
   "source": [
    "for iev in range(2):\n",
    "    ngp = data[\"GenPart_pt\"].counts[iev]\n",
    "    print(\"Event iev={0} has {1} generated particles\".format(iev, ngp))\n",
    "    for igp in range(ngp):\n",
    "        print(\"  igp={0} pt={1} pdgId={2} status={3} idxmother={4}\".format(\n",
    "            igp,\n",
    "            data[\"GenPart_pt\"][iev][igp],\n",
    "            data[\"GenPart_pdgId\"][iev][igp],\n",
    "            data[\"GenPart_status\"][iev][igp],\n",
    "            data[\"GenPart_genPartIdxMother\"][iev][igp])\n",
    "    )"
   ]
  },
  {
   "cell_type": "markdown",
   "metadata": {},
   "source": [
    "## Task 0: directed graph of generated particles"
   ]
  },
  {
   "cell_type": "markdown",
   "metadata": {},
   "source": [
    "Write a function that creates a directed graph for the generated particles for each event.\n",
    "The input will be a list of particles with (idx, pdgId, idxmother). The output should be a graph, with nodes corresponding to the particles and edges corresponding to the (idx, idxmother) of each particle.\n",
    "\n",
    "Visualizes the graphs for 3 events.\n",
    "\n",
    "Use a library e.g. `networkx` (or suggest an alternative) to work with the graphs."
   ]
  },
  {
   "cell_type": "markdown",
   "metadata": {},
   "source": [
    "## Task 1: find all the stable final state particles"
   ]
  },
  {
   "cell_type": "markdown",
   "metadata": {},
   "source": [
    "Write a function that will find the final b quarks (pdgId==+-5) and photons (pdgId==22) in each event. Final meaning that they are in the end of the decay chain, followed by other particles only.\n",
    "\n",
    "Input: list of particles with (idx, pdgId, idxmother)\n",
    "Output: indices of b1, b2, photon1, photon2 in the list"
   ]
  },
  {
   "cell_type": "code",
   "execution_count": null,
   "metadata": {},
   "outputs": [],
   "source": []
  }
 ],
 "metadata": {
  "kernelspec": {
   "display_name": "Python 3",
   "language": "python",
   "name": "python3"
  },
  "language_info": {
   "codemirror_mode": {
    "name": "ipython",
    "version": 3
   },
   "file_extension": ".py",
   "mimetype": "text/x-python",
   "name": "python",
   "nbconvert_exporter": "python",
   "pygments_lexer": "ipython3",
   "version": "3.6.8"
  }
 },
 "nbformat": 4,
 "nbformat_minor": 2
}
